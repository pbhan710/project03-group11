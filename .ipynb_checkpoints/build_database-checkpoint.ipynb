{
 "cells": [
  {
   "cell_type": "markdown",
   "id": "dbe48be4",
   "metadata": {},
   "source": [
    "# 0. Setup\n",
    "Import dependencies."
   ]
  },
  {
   "cell_type": "code",
   "execution_count": 4,
   "id": "96206c68",
   "metadata": {},
   "outputs": [],
   "source": [
    "import json\n",
    "from datetime import date\n",
    "from datetime import datetime\n",
    "from dateutil.relativedelta import relativedelta\n",
    "import requests\n",
    "from config import api_key"
   ]
  },
  {
   "cell_type": "markdown",
   "id": "2fa91532",
   "metadata": {},
   "source": [
    "# 1. Initialize Variables\n",
    "- `today`: Today's date.\n",
    "\n",
    "## URLs\n",
    "- `discover_base_url`: Base URL of TMDB's Discover API to search movies by different types of data. This includes the API key.\n",
    "- `movie_base_url`: Base URL of TMDB's Movie API to search details of a specific movie by ID.\n",
    "- `discover_target_url`: Full URL of TMDB's Discover API which includes TMDB properties to filter movies by. Example URL: https://api.themoviedb.org/3/discover/movie?api_key={api_key}&release_date.gte=2010-01-01&release_date.lte=2010-01-31&region=us&with_release_type=2|3&vote_count.gte=1&sort_by=popularity.desc&page=1\n",
    "- `movie_target_url`: Full URL of TMDB's Movie API which includes the TMDB movie. Example URL: https://api.themoviedb.org/3/movie/550?api_key={api_key}\n",
    "\n",
    "## TMDB Properties\n",
    "- `release_date.gte={release_start_date}`: Earliest date of movies' release dates to search for using TMDB's Discover API.\n",
    "- `release_date.lte={today}`: Latest date of movies' release dates to search for using TMDB's Discover API.\n",
    "\n",
    "**Hard-Coded Properties**:\n",
    "- `region=US`: ISO 3166-1 code to filter movies' release dates by. Set specifically to *US*.\n",
    "- `with_release_type=2|3`: Type of releases. *2|3* pulls movies with theatrical releases.\n",
    "- `vote_count.gte=1`: Minimum number of votes by TMDB users on movies to search for in TMDB's Discover API. Set to *1* to exclude movies with 0 votes, reducing overall search results.\n",
    "- `sort_by=popularity.desc`: Sort movies pulled through TMDB's Discover API by [TMDB's popularity metric](https://developers.themoviedb.org/3/getting-started/popularity) among TMDB users, descending."
   ]
  },
  {
   "cell_type": "code",
   "execution_count": 7,
   "id": "04ad225b",
   "metadata": {},
   "outputs": [],
   "source": [
    "today = date.today()\n",
    "\n",
    "discover_base_url = f\"https://api.themoviedb.org/3/discover/movie?api_key={api_key}\"\n",
    "movie_base_url = \"https://api.themoviedb.org/3/movie/\"\n",
    "\n",
    "# Initialize start date as 10 years from today. Keep first day of month.\n",
    "release_start_date = date((today - relativedelta(years = 10)).year, today.month, 1)\n",
    "region = \"US\"\n",
    "\n",
    "# Append TMDB properties to Discover base URL.\n",
    "discover_target_url = f\"{discover_base_url}&release_date.gte={str(release_start_date)}&release_date.lte={str(today)}&region=US&with_release_type=2|3&vote_count.gte=1&sort_by=popularity.desc\"\n",
    "\n",
    "# Initialize variables of empty lists to populate upon iterating through APIs.\n",
    "movies_lst = []\n",
    "directors_lst = []\n",
    "actors_lst = []"
   ]
  },
  {
   "cell_type": "code",
   "execution_count": null,
   "id": "945812b6",
   "metadata": {
    "scrolled": true
   },
   "outputs": [
    {
     "name": "stdout",
     "output_type": "stream",
     "text": [
      "Request: 2013-01-01 to 2023-01-12\n",
      "Page 1 of 500:\n"
     ]
    }
   ],
   "source": [
    "print(f\"Request: {str(release_start_date)} to {str(today)}\")\n",
    "\n",
    "for page in range(1, 500):\n",
    "    discover_target_url = f\"{discover_target_url}&page={page}\"\n",
    "\n",
    "    print(f\"Page {page} of 500:\")\n",
    "\n",
    "    discover_response = requests.get(discover_target_url, timeout=None)\n",
    "    discover_data = discover_response.json()\n",
    "    results = discover_data['results']\n",
    "\n",
    "    for movie in results:\n",
    "        id = movie[\"id\"]\n",
    "        movie_target_url = f\"{movie_base_url}{id}?api_key={api_key}&append_to_response=credits\"\n",
    "\n",
    "        movie_response = requests.get(movie_target_url, timeout=None)\n",
    "        movie_data = movie_response.json()\n",
    "        movie_release_date = datetime.strptime(movie_data['release_date'], '%Y-%m-%d').date()\n",
    "\n",
    "        if (movie_data['budget'] == 0 and movie_data['revenue'] == 0):\n",
    "            print(f\"{id} ({movie_data['title']}) has both $0 budget and revenue. Skipping...\")\n",
    "            continue\n",
    "        elif movie_data['original_language'] != 'en':\n",
    "            print(f\"{id} ({movie_data['title']}) is not originally in English. Skipping...\")\n",
    "            continue\n",
    "        elif (movie_release_date < release_start_date or movie_release_date > today):\n",
    "            print(f\"{id} ({movie_data['title']}) was released outside of the {release_start_date} to {today} range. Skipping...\")\n",
    "            continue\n",
    "        else:\n",
    "            movies_lst.append({\n",
    "                \"id\": id,\n",
    "                \"title\": movie_data['title'],\n",
    "                \"tagline\": movie_data['tagline'],\n",
    "                \"overview\": movie_data['overview'],\n",
    "                \"homepage\": movie_data['homepage'],\n",
    "                \"release_date\": movie_data['release_date'],\n",
    "                \"budget\": movie_data['budget'],\n",
    "                \"revenue\": movie_data['revenue'],\n",
    "                \"popularity\": movie_data['popularity'],\n",
    "                \"runtime\": movie_data['runtime'],\n",
    "                \"poster_path\": movie_data['poster_path']\n",
    "            })\n",
    "            \n",
    "            for actor in movie_data['credits']['cast']:\n",
    "                if actor['known_for_department'] == \"Acting\":\n",
    "                    actors_lst.append({\n",
    "                        \"id\": id,\n",
    "                        \"name\": actor['name'],\n",
    "                        \"character\": actor['character'],\n",
    "                        \"profile_path\": actor['profile_path']\n",
    "                    })\n",
    "\n",
    "            for member in movie_data['credits']['crew']:\n",
    "                if member['known_for_department'] != 'Director':\n",
    "                    continue\n",
    "                elif member['known_for_department'] == 'Director':\n",
    "                    directors_lst.append({\n",
    "                        \"id\": id,\n",
    "                        \"name\": member['name'],\n",
    "                        \"profile_path\": member['profile_path']\n",
    "                    })"
   ]
  },
  {
   "cell_type": "code",
   "execution_count": 5,
   "id": "f5ad4217",
   "metadata": {
    "scrolled": true
   },
   "outputs": [
    {
     "name": "stdout",
     "output_type": "stream",
     "text": [
      "Total number of movies added: 2302\n"
     ]
    }
   ],
   "source": [
    "print(f\"Total number of movies added: {len(movies_lst)}\")"
   ]
  },
  {
   "cell_type": "code",
   "execution_count": null,
   "id": "de3a3e91",
   "metadata": {},
   "outputs": [],
   "source": [
    "# For each movie ID, make a request to pull credits (i.e,. cast and crew). Store director/actors with associated movie ID in a list.\n",
    "directors = []\n",
    "actors = []\n",
    "\n",
    "for i in range(len(movies_lst)):\n",
    "    movie = movies_lst[i]\n",
    "    id = movie[\"id\"]\n",
    "\n",
    "    # Modify base URL to include movie ID and \"/credits\" (e.g., https://api.themoviedb.org/3/movie/661374/credits)\n",
    "    credits_url = f\"https://api.themoviedb.org/3/movie/{id}/credits?api_key={api_key}\"\n",
    "    \n",
    "    # Make request to pull credits for that movie.\n",
    "    response = requests.get(credits_url, timeout=None)\n",
    "    data = response.json()\n",
    "    id = data[\"id\"]\n",
    "    cast_members = data[\"cast\"]\n",
    "    crew_members = data[\"crew\"]\n",
    "    \n",
    "    for j in range(len(cast_members)):\n",
    "        actors.append({\"id\": id, \"actor\": cast_members[j]})\n",
    "        print(f\"ID: {id} | Actor: {cast_members[j]}\")\n",
    "\n",
    "    for k in range(len(crew_members)): \n",
    "        if crew_members[k][\"job\"] == \"Director\":\n",
    "            directors.append({\"id\": id, \"actor\": crew_members[k]})\n",
    "            print(f\"ID: {id} | Actor: {crew_members[k]}\")\n",
    "            break\n",
    "    \n",
    "    # Store into DataFrames."
   ]
  },
  {
   "cell_type": "code",
   "execution_count": null,
   "id": "b877cfc3",
   "metadata": {},
   "outputs": [],
   "source": [
    "# Store lists of movies and directors/actors into Postgres as separate tables."
   ]
  }
 ],
 "metadata": {
  "kernelspec": {
   "display_name": "PythonData",
   "language": "python",
   "name": "pythondata"
  },
  "language_info": {
   "codemirror_mode": {
    "name": "ipython",
    "version": 3
   },
   "file_extension": ".py",
   "mimetype": "text/x-python",
   "name": "python",
   "nbconvert_exporter": "python",
   "pygments_lexer": "ipython3",
   "version": "3.9.7"
  }
 },
 "nbformat": 4,
 "nbformat_minor": 5
}
