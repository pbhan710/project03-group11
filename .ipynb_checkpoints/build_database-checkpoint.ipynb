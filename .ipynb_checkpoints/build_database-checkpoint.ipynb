{
 "cells": [
  {
   "cell_type": "code",
   "execution_count": 7,
   "id": "6b65026f",
   "metadata": {},
   "outputs": [],
   "source": [
    "# Import dependencies.\n",
    "import json\n",
    "import requests\n",
    "from config import api_key"
   ]
  },
  {
   "cell_type": "markdown",
   "id": "f2ed8773",
   "metadata": {},
   "source": [
    "https://api.themoviedb.org/3/discover/movie?primary_release_date.gte=2010-01-01&primary_release_date.lte=2023-01-03&api_key=16fee68dfcc6419b14c922b993cac267&append_to_response=videos"
   ]
  },
  {
   "cell_type": "code",
   "execution_count": 8,
   "id": "0a4b9b43",
   "metadata": {},
   "outputs": [
    {
     "data": {
      "text/plain": [
       "200"
      ]
     },
     "execution_count": 8,
     "metadata": {},
     "output_type": "execute_result"
    }
   ],
   "source": [
    "# Store base URL to API: https://api.themoviedb.org/3/movie/\n",
    "base_url = \"https://api.themoviedb.org/3/discover/movie\"\n",
    "target_url = f\"{base_url}?primary_release_date.gte=2010-01-01&primary_release_date.lte=2023-01-03&api_key={api_key}\"\n",
    "\n",
    "# Make request and store response.\n",
    "response = requests.get(target_url)\n",
    "response.status_code"
   ]
  },
  {
   "cell_type": "code",
   "execution_count": 9,
   "id": "deb6fcc5",
   "metadata": {
    "scrolled": false
   },
   "outputs": [
    {
     "name": "stderr",
     "output_type": "stream",
     "text": [
      "IOPub data rate exceeded.\n",
      "The notebook server will temporarily stop sending output\n",
      "to the client in order to avoid crashing it.\n",
      "To change this limit, set the config variable\n",
      "`--NotebookApp.iopub_data_rate_limit`.\n",
      "\n",
      "Current values:\n",
      "NotebookApp.iopub_data_rate_limit=1000000.0 (bytes/sec)\n",
      "NotebookApp.rate_limit_window=3.0 (secs)\n",
      "\n"
     ]
    }
   ],
   "source": [
    "# Make a request to pull movies API from 2010 onwards for each page by looping.\n",
    "movies_lst = []\n",
    "\n",
    "for page in range(499):\n",
    "    page += 1\n",
    "    target_url = f\"{target_url}&page={page}\"\n",
    "\n",
    "    response = requests.get(target_url)\n",
    "    data = response.json()[\"results\"]\n",
    "\n",
    "    for movie in data:\n",
    "        movies_lst.append(movie)\n",
    "\n",
    "print(json.dumps(movies_lst, indent=4, sort_keys=True))"
   ]
  },
  {
   "cell_type": "code",
   "execution_count": 5,
   "id": "7ae886cd",
   "metadata": {},
   "outputs": [],
   "source": [
    "# JSONify request."
   ]
  },
  {
   "cell_type": "code",
   "execution_count": 4,
   "id": "6639a9ee",
   "metadata": {},
   "outputs": [],
   "source": [
    "# Loop through request and store each movie in a list."
   ]
  },
  {
   "cell_type": "code",
   "execution_count": 7,
   "id": "4283816a",
   "metadata": {},
   "outputs": [],
   "source": [
    "# For each movie ID, make a request to pull credits (i.e,. cast and crew). Store director/actors with associated movie ID in a list.\n",
    "\n",
    "    # Modify base URL to include movie ID and \"/credits\" (e.g., https://api.themoviedb.org/3/movie/661374/credits)\n",
    "    \n",
    "    # Make request to pull credits for that movie.\n",
    "    \n",
    "    # Loop through cast to store actors into lists (pure actors list; actors/movie list).\n",
    "    \n",
    "    # Store into DataFrames."
   ]
  },
  {
   "cell_type": "code",
   "execution_count": 8,
   "id": "a08033ee",
   "metadata": {},
   "outputs": [],
   "source": [
    "# Store lists of movies and directors/actors into Postgres as separate tables."
   ]
  }
 ],
 "metadata": {
  "kernelspec": {
   "display_name": "PythonData",
   "language": "python",
   "name": "pythondata"
  },
  "language_info": {
   "codemirror_mode": {
    "name": "ipython",
    "version": 3
   },
   "file_extension": ".py",
   "mimetype": "text/x-python",
   "name": "python",
   "nbconvert_exporter": "python",
   "pygments_lexer": "ipython3",
   "version": "3.9.7"
  }
 },
 "nbformat": 4,
 "nbformat_minor": 5
}
